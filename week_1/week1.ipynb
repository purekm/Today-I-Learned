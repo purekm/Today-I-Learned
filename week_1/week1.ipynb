{
  "nbformat": 4,
  "nbformat_minor": 0,
  "metadata": {
    "colab": {
      "provenance": []
    },
    "kernelspec": {
      "name": "python3",
      "display_name": "Python 3"
    }
  },
  "cells": [
    {
      "cell_type": "code",
      "metadata": {
        "id": "FLMm7LHEooQE"
      },
      "source": [
        "import this"
      ],
      "execution_count": null,
      "outputs": []
    },
    {
      "cell_type": "code",
      "metadata": {
        "id": "QnazfyJ5orAQ"
      },
      "source": [
        "print(\"hello, world\")"
      ],
      "execution_count": null,
      "outputs": []
    },
    {
      "cell_type": "code",
      "metadata": {
        "id": "wCy6t7xxvK1y"
      },
      "source": [
        "import platform\n",
        "platform.python_version()"
      ],
      "execution_count": null,
      "outputs": []
    },
    {
      "cell_type": "markdown",
      "metadata": {
        "id": "N-yeYt0sMIrS"
      },
      "source": [
        "# 큰 제목\n",
        "## 중간 제목\n",
        "### 작은 제목\n",
        "제목"
      ]
    },
    {
      "cell_type": "markdown",
      "metadata": {
        "id": "QEY2deApMUn_"
      },
      "source": [
        "# 목록\n",
        "\n",
        "* 별표는 번호 없는 목록\n",
        "* 별표 후 꼭 띄우기\n",
        "\n",
        "1. 번호 있는 목록\n",
        "2. 번호는 직접 입력\n"
      ]
    },
    {
      "cell_type": "code",
      "metadata": {
        "id": "TpAC13AvqgPd"
      },
      "source": [
        "import pandas as pd\n",
        "pd.read_csv('./iris.csv')"
      ],
      "execution_count": null,
      "outputs": []
    },
    {
      "cell_type": "code",
      "metadata": {
        "id": "Mqg0K2lOqgUu"
      },
      "source": [],
      "execution_count": null,
      "outputs": []
    }
  ]
}